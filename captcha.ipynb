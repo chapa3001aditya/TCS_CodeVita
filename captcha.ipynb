{
 "cells": [
  {
   "cell_type": "code",
   "execution_count": 134,
   "metadata": {},
   "outputs": [
    {
     "name": "stdout",
     "output_type": "stream",
     "text": [
      "fiv.onee+sev@rjrjsai\n",
      "nin.nine-six@hvnsai\n"
     ]
    }
   ],
   "source": [
    "def count_non_zero_elements(num):\n",
    "    try:\n",
    "        return sum(1 for i in str(num) if i != '0' and i != '.' and i != '-' and i != 'e')\n",
    "    \n",
    "    except ValueError:\n",
    "        return \"Please enter a valid number\"\n",
    "    \n",
    "def getSum(n): \n",
    "    \n",
    "    sum = 0\n",
    "    for digit in str(n):  \n",
    "      sum += int(digit)       \n",
    "    return sum\n",
    "   \n",
    "def single_digit_sum(num):\n",
    "    num = int(num.split('.')[1].split('e')[0])\n",
    "    while len(str(num)) != 1:\n",
    "        num = getSum(num)\n",
    "    return num\n",
    "\n",
    "def password(num,first_num,decimal_sum,last_digit,name):\n",
    "    passcode, name_list = \"\", []\n",
    "    if last_digit % 2 == 0:\n",
    "        name_list = [name[i] for i in range(1,len(name),2)]\n",
    "    else:\n",
    "        name_list = [name[i] for i in range(0,len(name),2)]\n",
    "    name = \"\".join(name_list)\n",
    "    \n",
    "    passcode = no_in_eng[first_num] + '.' + no_in_eng[decimal_sum]\n",
    "    if 'e+' in str(num):\n",
    "        passcode += 'e+'+no_in_eng[last_digit]\n",
    "    elif 'e-' in str(num):\n",
    "        passcode += 'e-'+no_in_eng[last_digit]\n",
    "    else:\n",
    "        passcode += 'e'+no_in_eng[last_digit]\n",
    "    passcode += '@' + name\n",
    "    return passcode\n",
    "\n",
    "no_in_eng = {1: 'one', 2: 'two', 3: 'thr', 4: 'fou', 5: 'fiv', 6: 'six', 7: 'sev', 8: 'eig', 9: 'nin',0:'zer'}\n",
    "\n",
    "user_input = [i for i in input().strip().split(\" \") if i != '']\n",
    "\n",
    "details = dict()\n",
    "for i  in range(1,len(user_input),2):\n",
    "    details[(user_input[i])] = user_input[i+1]\n",
    "\n",
    "details_new = []\n",
    "\n",
    "for key,value in details.items():\n",
    "    m = count_non_zero_elements(key) - 1\n",
    "    if value.islower():\n",
    "        if key.isdigit():\n",
    "            if len(str(key)) == 1:\n",
    "                new_key = key+'.0e0'\n",
    "                        \n",
    "            else: \n",
    "                new_key = format(int(key), f'.{m}e')\n",
    "            num_key = int(str(new_key).split('.')[0])\n",
    "            decimal_sum = single_digit_sum(new_key)\n",
    "            last_digit = int(str(new_key)[-1])\n",
    "            answer = password(new_key,num_key,decimal_sum,last_digit,value)\n",
    "            details_new.append(answer)\n",
    "            \n",
    "        else:\n",
    "            try:\n",
    "                new_key = format(float(key), f'.{m}e')\n",
    "                num_key = int(str(new_key).split('.')[0])\n",
    "                decimal_sum = single_digit_sum(new_key)\n",
    "                last_digit = int(str(new_key)[-1])\n",
    "                answer = password(new_key,num_key,decimal_sum,last_digit,value)\n",
    "                details_new.append(answer)\n",
    "            except Exception as e:\n",
    "                print(\"Invalid\")\n",
    "for i in details_new:\n",
    "    print(i)"
   ]
  }
 ],
 "metadata": {
  "kernelspec": {
   "display_name": "Python 3",
   "language": "python",
   "name": "python3"
  },
  "language_info": {
   "codemirror_mode": {
    "name": "ipython",
    "version": 3
   },
   "file_extension": ".py",
   "mimetype": "text/x-python",
   "name": "python",
   "nbconvert_exporter": "python",
   "pygments_lexer": "ipython3",
   "version": "3.9.12"
  }
 },
 "nbformat": 4,
 "nbformat_minor": 2
}
